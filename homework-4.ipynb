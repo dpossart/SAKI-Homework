{
 "cells": [
  {
   "cell_type": "markdown",
   "id": "e71f0c71",
   "metadata": {},
   "source": [
    "#  Reinforcement-learning\n",
    "this code demonstrates an example use of a reinforcement-learning-based algorithm\n",
    "\n",
    "the following python libraries are required to use this program: \n",
    "- numpy\n",
    "- Markov Decision Process (MDP) Toolbox\n",
    "- itertools\n"
   ]
  },
  {
   "cell_type": "markdown",
   "id": "49acbefe",
   "metadata": {},
   "source": [
    "#### import the dependencies"
   ]
  },
  {
   "cell_type": "code",
   "execution_count": 1,
   "id": "f8ed90a4",
   "metadata": {},
   "outputs": [],
   "source": [
    "import numpy as np\n",
    "import mdptoolbox\n",
    "import itertools\n",
    "\n",
    "import warnings\n",
    "warnings.filterwarnings(\"ignore\")"
   ]
  },
  {
   "cell_type": "markdown",
   "id": "2011e71d",
   "metadata": {},
   "source": [
    "#### read in the data"
   ]
  },
  {
   "cell_type": "code",
   "execution_count": 2,
   "id": "b05b02ff-845b-4976-8745-89408a63a9f1",
   "metadata": {},
   "outputs": [],
   "source": [
    "train_file = open(\"./data/Exercise 4 - Reinforcement Learning Data - warehousetraining.txt\",\"r\")\n",
    "test_file = open(\"./data/Exercise 4 - Reinforcement Learning Data - warehouseorder.txt\",\"r\")\n",
    "\n",
    "# dict to count unique values\n",
    "train_data = {}\n",
    "for line in train_file:\n",
    "    # remove special chars\n",
    "    line = line.replace(\"\\t\",\" \")\n",
    "    line = line.replace(\"\\n\",\"\")\n",
    "    if line not in train_data:\n",
    "        # create key in dict\n",
    "        train_data[line] = 0\n",
    "    train_data[line] += 1\n",
    "    \n",
    "test_data = []\n",
    "for line in test_file:\n",
    "    line = line.replace(\"\\t\",\" \")\n",
    "    line = line.replace(\"\\n\",\"\")\n",
    "    test_data.append(line)"
   ]
  },
  {
   "cell_type": "code",
   "execution_count": 3,
   "id": "bbe973eb-7354-47f4-823b-e1bfe51a6a57",
   "metadata": {},
   "outputs": [
    {
     "name": "stdout",
     "output_type": "stream",
     "text": [
      "Train Data Count  {'store red': 2989, 'store blue': 1517, 'store white': 1548, 'restore blue': 1517, 'restore white': 1548, 'restore red': 2989}\n",
      "Train Data Probabilities  {'store red': 0.24686157912124215, 'store blue': 0.12528906508093823, 'store white': 0.1278493557978196, 'restore blue': 0.12528906508093823, 'restore white': 0.1278493557978196, 'restore red': 0.24686157912124215}\n",
      "Train Data Samples  12108\n"
     ]
    }
   ],
   "source": [
    "print(\"Train Data Count \", train_data)\n",
    "sum_train_data = sum(train_data.values())\n",
    "probability_dict = train_data.copy()\n",
    "for key, value in probability_dict.items(): \n",
    "    probability_dict[key] /= sum_train_data\n",
    "print(\"Train Data Probabilities \", probability_dict)\n",
    "print(\"Train Data Samples \", sum_train_data)"
   ]
  },
  {
   "cell_type": "code",
   "execution_count": 4,
   "id": "b4dfa741-0675-4b45-94a2-282328d31424",
   "metadata": {},
   "outputs": [],
   "source": [
    "#### setup the warehouse"
   ]
  },
  {
   "cell_type": "code",
   "execution_count": 5,
   "id": "ff4fb7ab-36e1-40c9-a0f8-4540fd8a741f",
   "metadata": {},
   "outputs": [],
   "source": [
    "rewards = [6,3,3,1]\n",
    "costs = [1,2,2,3]\n",
    "fields = [[0, 0], [0, 1], [1, 0], [1, 1]]\n",
    "fields_states = ['empty', 'red', 'blue', 'white']\n",
    "empty_warehouse = ['empty','empty','empty','empty']\n",
    "jobs = ['store', 'restore']\n",
    "warehouse_size = len(fields)"
   ]
  },
  {
   "cell_type": "code",
   "execution_count": 6,
   "id": "8059834c-8b40-41b9-8fa2-23dfb0a08c9a",
   "metadata": {},
   "outputs": [],
   "source": [
    "#### get all possible states"
   ]
  },
  {
   "cell_type": "code",
   "execution_count": 119,
   "id": "0921ab28-93f0-4570-acf3-f8cb18292b5c",
   "metadata": {},
   "outputs": [
    {
     "name": "stdout",
     "output_type": "stream",
     "text": [
      "Number of all possible states 1536\n"
     ]
    }
   ],
   "source": [
    "def create_all_possible_states(fields, fields_states, warehouse_size):  \n",
    "    fieldStates = itertools.product(fields_states, repeat=warehouse_size)\n",
    "    field_states = [list(item) for item in fieldStates]\n",
    "    \n",
    "    all_states = []\n",
    "    for key in probability_dict.keys():\n",
    "        for field_state in field_states:\n",
    "            all_states.append([key, field_state])\n",
    "    return all_states\n",
    "\n",
    "all_states = create_all_possible_states(fields, fields_states, warehouse_size)\n",
    "step_size = len(all_states)/ len(probability_dict.keys())\n",
    "print(\"Number of all possible states\", len(all_states))"
   ]
  },
  {
   "cell_type": "markdown",
   "id": "1b74d1d5",
   "metadata": {},
   "source": [
    "#### create the transaction and reward matrix"
   ]
  },
  {
   "cell_type": "code",
   "execution_count": 120,
   "id": "52515b80",
   "metadata": {},
   "outputs": [],
   "source": [
    "def transition_allowed(a, state1, state2):\n",
    "    operation, rest = state1\n",
    "    splits = operation.split(\" \")\n",
    "    job, color = splits\n",
    "    \n",
    "    operation2, rest2 = state2\n",
    "    splits2 = operation2.split(\" \")\n",
    "    job2, color2 = splits2\n",
    "    \n",
    "    if job.startswith('store'):\n",
    "        if rest[a] == 'empty' and rest2[a] != color:\n",
    "            return False\n",
    "        if rest[a] != 'empty' and rest[a] != rest2[a]:\n",
    "            return False\n",
    "    else:\n",
    "        # restore\n",
    "        if rest[a] != color and rest[a] != rest2[a]:\n",
    "            return False\n",
    "        if rest[a] == color and rest2[a] != 'empty':\n",
    "            return False\n",
    "        \n",
    "    return True\n",
    "\n",
    "\n",
    "\n",
    "def create_T_matrix():\n",
    "    T = np.zeros((warehouse_size, len(all_states), len(all_states)))\n",
    "    \n",
    "    for a in range(len(fields)):\n",
    "        for s1, state1 in enumerate(all_states):\n",
    "            for s2, state2 in enumerate(all_states):\n",
    "                if transition_allowed(a, state1, state2):\n",
    "                    operation = state2[0]\n",
    "                    T[a][s1][s2] = round(probability_dict[operation],4)\n",
    "    \n",
    "    for a, rows in enumerate(T):\n",
    "        for b, row in enumerate(rows):\n",
    "            row_sum = np.sum(row)\n",
    "            if row_sum == 0:\n",
    "                T[a][b][b] = 1\n",
    "            # every row in the transaction matrix has in sum to be equal 1\n",
    "            T[a] = rows / rows.sum(axis=1)[:, None]\n",
    "    return T\n",
    "\n",
    "\n",
    "def create_R_matrix():\n",
    "    R = np.zeros((len(all_states), warehouse_size))\n",
    "    for i, state in enumerate(all_states):\n",
    "        operation, rest = state\n",
    "        splits = operation.split(\" \")\n",
    "        job, color = splits\n",
    "        reward = np.zeros(warehouse_size)\n",
    "        # check what job is performed and if its possible\n",
    "        if job == \"store\":\n",
    "            for j in range(warehouse_size):\n",
    "                if rest[j] != \"empty\":\n",
    "                    reward[j] = -100\n",
    "                else:\n",
    "                    reward[j] = rewards[j]\n",
    "    \n",
    "        else:\n",
    "            for j in range(warehouse_size):\n",
    "                if rest[j] != color:\n",
    "                    reward[j] = -100\n",
    "                else:\n",
    "                    reward[j] = rewards[j]\n",
    "        R[i] = reward\n",
    "    return R\n",
    "T = create_T_matrix()\n",
    "R = create_R_matrix()\n",
    "\n"
   ]
  },
  {
   "cell_type": "code",
   "execution_count": 108,
   "id": "30de0d7c",
   "metadata": {},
   "outputs": [],
   "source": [
    "#### fit the models"
   ]
  },
  {
   "cell_type": "code",
   "execution_count": 121,
   "id": "71553007",
   "metadata": {},
   "outputs": [],
   "source": [
    "mdp_policy = mdptoolbox.mdp.PolicyIteration(T, R, 0.95, max_iter=1000)\n",
    "mdp_value = mdptoolbox.mdp.ValueIteration(T, R, 0.95, max_iter=1000)\n",
    "mdp_policy.run()\n",
    "mdp_value.run()"
   ]
  },
  {
   "cell_type": "markdown",
   "id": "b3e72a43",
   "metadata": {},
   "source": [
    "#### implementation of a greedy approach for comparison"
   ]
  },
  {
   "cell_type": "code",
   "execution_count": 122,
   "id": "33080faa",
   "metadata": {},
   "outputs": [],
   "source": [
    "def greedy_approach(warehouse, operations):\n",
    "    dist = 0\n",
    "    for operation in operations:\n",
    "        operation = operation.split(' ')\n",
    "        action, color = operation\n",
    "        \n",
    "        if action == \"store\":\n",
    "            for x in range(len(warehouse)):\n",
    "                if warehouse[x] == \"empty\":\n",
    "                    warehouse[x] = color\n",
    "                    dist += costs[x] \n",
    "        else:\n",
    "            for y in range(len(warehouse)):\n",
    "                if warehouse[y] == color:\n",
    "                    warehouse[y] = \"empty\"\n",
    "                    dist += costs[y] \n",
    "    return dist\n",
    "\n"
   ]
  },
  {
   "cell_type": "markdown",
   "id": "958f6b57",
   "metadata": {},
   "source": [
    "#### implemention of a policy distance metric"
   ]
  },
  {
   "cell_type": "code",
   "execution_count": 123,
   "id": "92e754ee",
   "metadata": {},
   "outputs": [],
   "source": [
    "def distance_metric(all_states, model, warehouse, operations):\n",
    "    dist = 0\n",
    "    for operation in operations:\n",
    "        operation = operation.split(' ')\n",
    "        job, color = operation\n",
    "        idx = -1\n",
    "        for i, state in enumerate(all_states):\n",
    "            if idx != -1:\n",
    "                break\n",
    "            for j in range(len(warehouse)):\n",
    "                op, fields = state\n",
    "                if fields[j]!=warehouse[j]:\n",
    "                    break\n",
    "                if op != job:\n",
    "                    break\n",
    "                else:\n",
    "                    i = idx\n",
    "        index = int(model[idx])\n",
    "        if job == \"store\":\n",
    "            warehouse[index] = color\n",
    "            dist += costs[index] \n",
    "        else:\n",
    "            warehouse[index] = 'empty'\n",
    "            dist += costs[index]\n",
    "    return dist"
   ]
  },
  {
   "cell_type": "markdown",
   "id": "9ac69074",
   "metadata": {},
   "source": [
    "#### Evaluation - compare the different distances"
   ]
  },
  {
   "cell_type": "code",
   "execution_count": 124,
   "id": "cb11f348",
   "metadata": {},
   "outputs": [
    {
     "name": "stdout",
     "output_type": "stream",
     "text": [
      "Greedy approach distance 144\n",
      "MDP Policy distance 180\n",
      "MDP Value distance 180\n"
     ]
    }
   ],
   "source": [
    "greedy_distance = greedy_approach(empty_warehouse.copy(), test_data)\n",
    "mdp_policy_distance = distance_metric(all_states, mdp_policy.policy, empty_warehouse.copy(), test_data)\n",
    "mdp_value_distance = distance_metric(all_states, mdp_value.policy,empty_warehouse.copy(), test_data)\n",
    "print(\"Greedy approach distance\", greedy_distance)\n",
    "print(\"MDP Policy distance\", mdp_policy_distance)\n",
    "print(\"MDP Value distance\", mdp_value_distance)"
   ]
  },
  {
   "cell_type": "code",
   "execution_count": null,
   "id": "b329031b",
   "metadata": {},
   "outputs": [],
   "source": []
  }
 ],
 "metadata": {
  "kernelspec": {
   "display_name": "Python 3",
   "language": "python",
   "name": "python3"
  },
  "language_info": {
   "codemirror_mode": {
    "name": "ipython",
    "version": 3
   },
   "file_extension": ".py",
   "mimetype": "text/x-python",
   "name": "python",
   "nbconvert_exporter": "python",
   "pygments_lexer": "ipython3",
   "version": "3.7.9"
  }
 },
 "nbformat": 4,
 "nbformat_minor": 5
}
